{
 "cells": [
  {
   "cell_type": "code",
   "execution_count": 46,
   "id": "6f69ce11",
   "metadata": {},
   "outputs": [],
   "source": [
    "import pandas as pd\n",
    "import seaborn as sns\n",
    "import matplotlib.pyplot as plt\n",
    "import matplotlib as mpl\n",
    "mpl.rcParams.update(mpl.rcParamsDefault)\n",
    "# mpl.rcParams[\"text.usetex\"] = True\n",
    "mpl.rcParams['font.family'] = 'serif'\n",
    "mpl.rcParams['font.size'] = 12"
   ]
  },
  {
   "cell_type": "code",
   "execution_count": 47,
   "id": "374ef3f3",
   "metadata": {},
   "outputs": [
    {
     "name": "stdout",
     "output_type": "stream",
     "text": [
      "The total number of training data is: 23100\n",
      "The total number of testing data is: 5776\n"
     ]
    }
   ],
   "source": [
    "df_train = pd.read_csv(\"data/medical_tc_train.csv\")\n",
    "df_test = pd.read_csv(\"data/medical_tc_test.csv\")\n",
    "df_labels = pd.read_csv(\"data/medical_tc_labels.csv\")\n",
    "df_train.loc[df_train['condition_label'] == 5, 'condition_label'] = 0\n",
    "df_test.loc[df_test['condition_label'] == 5, 'condition_label'] = 0\n",
    "df_labels.loc[df_labels['condition_label'] == 5, 'condition_label'] = 0\n",
    "print(\"The total number of training data is: %d\" %(df_train.size))\n",
    "print(\"The total number of testing data is: %d\" %(df_test.size))"
   ]
  },
  {
   "cell_type": "code",
   "execution_count": 48,
   "id": "88b06e85",
   "metadata": {},
   "outputs": [
    {
     "name": "stdout",
     "output_type": "stream",
     "text": [
      "✅ Combined dataset size: 14438 samples\n"
     ]
    }
   ],
   "source": [
    "df = pd.concat([df_train, df_test], ignore_index=True)\n",
    "print(f\"✅ Combined dataset size: {len(df)} samples\")"
   ]
  },
  {
   "cell_type": "code",
   "execution_count": 49,
   "id": "7337e2cf",
   "metadata": {},
   "outputs": [
    {
     "data": {
      "text/html": [
       "<div>\n",
       "<style scoped>\n",
       "    .dataframe tbody tr th:only-of-type {\n",
       "        vertical-align: middle;\n",
       "    }\n",
       "\n",
       "    .dataframe tbody tr th {\n",
       "        vertical-align: top;\n",
       "    }\n",
       "\n",
       "    .dataframe thead th {\n",
       "        text-align: right;\n",
       "    }\n",
       "</style>\n",
       "<table border=\"1\" class=\"dataframe\">\n",
       "  <thead>\n",
       "    <tr style=\"text-align: right;\">\n",
       "      <th></th>\n",
       "      <th>condition_label</th>\n",
       "      <th>condition_name</th>\n",
       "      <th>name</th>\n",
       "    </tr>\n",
       "  </thead>\n",
       "  <tbody>\n",
       "    <tr>\n",
       "      <th>0</th>\n",
       "      <td>1</td>\n",
       "      <td>neoplasms</td>\n",
       "      <td>neoplasms</td>\n",
       "    </tr>\n",
       "    <tr>\n",
       "      <th>1</th>\n",
       "      <td>2</td>\n",
       "      <td>digestive system diseases</td>\n",
       "      <td>digestive</td>\n",
       "    </tr>\n",
       "    <tr>\n",
       "      <th>2</th>\n",
       "      <td>3</td>\n",
       "      <td>nervous system diseases</td>\n",
       "      <td>nervous</td>\n",
       "    </tr>\n",
       "    <tr>\n",
       "      <th>3</th>\n",
       "      <td>4</td>\n",
       "      <td>cardiovascular diseases</td>\n",
       "      <td>cardiovascular</td>\n",
       "    </tr>\n",
       "    <tr>\n",
       "      <th>4</th>\n",
       "      <td>0</td>\n",
       "      <td>general pathological conditions</td>\n",
       "      <td>general</td>\n",
       "    </tr>\n",
       "  </tbody>\n",
       "</table>\n",
       "</div>"
      ],
      "text/plain": [
       "   condition_label                   condition_name            name\n",
       "0                1                        neoplasms       neoplasms\n",
       "1                2        digestive system diseases       digestive\n",
       "2                3          nervous system diseases         nervous\n",
       "3                4          cardiovascular diseases  cardiovascular\n",
       "4                0  general pathological conditions         general"
      ]
     },
     "execution_count": 49,
     "metadata": {},
     "output_type": "execute_result"
    }
   ],
   "source": [
    "df_labels['name'] = df_labels['condition_name'].str.split(n=1, expand=True)[0]\n",
    "df_labels"
   ]
  },
  {
   "cell_type": "code",
   "execution_count": 50,
   "id": "bd00c714",
   "metadata": {},
   "outputs": [
    {
     "data": {
      "text/html": [
       "<div>\n",
       "<style scoped>\n",
       "    .dataframe tbody tr th:only-of-type {\n",
       "        vertical-align: middle;\n",
       "    }\n",
       "\n",
       "    .dataframe tbody tr th {\n",
       "        vertical-align: top;\n",
       "    }\n",
       "\n",
       "    .dataframe thead th {\n",
       "        text-align: right;\n",
       "    }\n",
       "</style>\n",
       "<table border=\"1\" class=\"dataframe\">\n",
       "  <thead>\n",
       "    <tr style=\"text-align: right;\">\n",
       "      <th></th>\n",
       "      <th>condition_label</th>\n",
       "      <th>medical_abstract</th>\n",
       "      <th>condition</th>\n",
       "    </tr>\n",
       "  </thead>\n",
       "  <tbody>\n",
       "    <tr>\n",
       "      <th>0</th>\n",
       "      <td>0</td>\n",
       "      <td>Tissue changes around loose prostheses. A cani...</td>\n",
       "      <td>general</td>\n",
       "    </tr>\n",
       "    <tr>\n",
       "      <th>1</th>\n",
       "      <td>1</td>\n",
       "      <td>Neuropeptide Y and neuron-specific enolase lev...</td>\n",
       "      <td>neoplasms</td>\n",
       "    </tr>\n",
       "    <tr>\n",
       "      <th>2</th>\n",
       "      <td>2</td>\n",
       "      <td>Sexually transmitted diseases of the colon, re...</td>\n",
       "      <td>digestive</td>\n",
       "    </tr>\n",
       "    <tr>\n",
       "      <th>3</th>\n",
       "      <td>1</td>\n",
       "      <td>Lipolytic factors associated with murine and h...</td>\n",
       "      <td>neoplasms</td>\n",
       "    </tr>\n",
       "    <tr>\n",
       "      <th>4</th>\n",
       "      <td>3</td>\n",
       "      <td>Does carotid restenosis predict an increased r...</td>\n",
       "      <td>nervous</td>\n",
       "    </tr>\n",
       "  </tbody>\n",
       "</table>\n",
       "</div>"
      ],
      "text/plain": [
       "   condition_label                                   medical_abstract  \\\n",
       "0                0  Tissue changes around loose prostheses. A cani...   \n",
       "1                1  Neuropeptide Y and neuron-specific enolase lev...   \n",
       "2                2  Sexually transmitted diseases of the colon, re...   \n",
       "3                1  Lipolytic factors associated with murine and h...   \n",
       "4                3  Does carotid restenosis predict an increased r...   \n",
       "\n",
       "   condition  \n",
       "0    general  \n",
       "1  neoplasms  \n",
       "2  digestive  \n",
       "3  neoplasms  \n",
       "4    nervous  "
      ]
     },
     "execution_count": 50,
     "metadata": {},
     "output_type": "execute_result"
    }
   ],
   "source": [
    "my_dict = pd.Series(df_labels['name'].values, index=df_labels['condition_label']).to_dict()\n",
    "df[\"condition\"] = df[\"condition_label\"].map(my_dict)\n",
    "df.head()"
   ]
  },
  {
   "cell_type": "code",
   "execution_count": 51,
   "id": "eb537b41",
   "metadata": {},
   "outputs": [],
   "source": [
    "ax1 = sns.displot(df, x='condition', discrete=True, kind=\"hist\", shrink=.8)\n",
    "ax1.tick_params(axis='x', rotation=45)\n",
    "ax1.set_xlabels(\"\")\n",
    "# plt.title(\"Distribution of training data over 5 conditions label.\")\n",
    "plt.savefig(\"Initial_Analysis.pdf\", bbox_inches='tight')"
   ]
  }
 ],
 "metadata": {
  "kernelspec": {
   "display_name": "Python 3",
   "language": "python",
   "name": "python3"
  },
  "language_info": {
   "codemirror_mode": {
    "name": "ipython",
    "version": 3
   },
   "file_extension": ".py",
   "mimetype": "text/x-python",
   "name": "python",
   "nbconvert_exporter": "python",
   "pygments_lexer": "ipython3",
   "version": "3.12.3"
  }
 },
 "nbformat": 4,
 "nbformat_minor": 5
}
